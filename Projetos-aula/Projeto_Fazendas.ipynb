{
  "nbformat": 4,
  "nbformat_minor": 0,
  "metadata": {
    "colab": {
      "provenance": [],
      "toc_visible": true
    },
    "kernelspec": {
      "name": "python3",
      "display_name": "Python 3"
    },
    "language_info": {
      "name": "python"
    }
  },
  "cells": [
    {
      "cell_type": "code",
      "source": [
        "dados_f1 = 'https://raw.githubusercontent.com/Mirlaa/s-ries-temporais-statsmodels/main/Dados/Temperatura_mensal_F1.csv'\n",
        "dados_f2 = 'https://raw.githubusercontent.com/Mirlaa/s-ries-temporais-statsmodels/main/Dados/Temperatura_mensal_F2.csv'\n",
        "dados_f3 = 'https://raw.githubusercontent.com/Mirlaa/s-ries-temporais-statsmodels/main/Dados/Temperatura_mensal_F3.csv'"
      ],
      "metadata": {
        "id": "ueNNbbnw4_sO"
      },
      "execution_count": null,
      "outputs": []
    },
    {
      "cell_type": "code",
      "source": [],
      "metadata": {
        "id": "stPwPwafWdSk"
      },
      "execution_count": null,
      "outputs": []
    },
    {
      "cell_type": "markdown",
      "source": [
        "# Fazenda 1"
      ],
      "metadata": {
        "id": "Kzy3w5pF5AIh"
      }
    },
    {
      "cell_type": "markdown",
      "source": [
        "![Alt text: Imagem de uma fazenda com plantações de uvas](https://github.com/Mirlaa/s-ries-temporais-statsmodels/blob/main/imagens/Fazenda%201.png?raw=true)"
      ],
      "metadata": {
        "id": "RTPAWeFSD_e-"
      }
    },
    {
      "cell_type": "code",
      "source": [],
      "metadata": {
        "id": "nyO2xO53WfQ2"
      },
      "execution_count": null,
      "outputs": []
    },
    {
      "cell_type": "code",
      "source": [],
      "metadata": {
        "id": "l4Wkg2hAWfI2"
      },
      "execution_count": null,
      "outputs": []
    },
    {
      "cell_type": "code",
      "source": [],
      "metadata": {
        "id": "vLIOqSyEWfB3"
      },
      "execution_count": null,
      "outputs": []
    },
    {
      "cell_type": "markdown",
      "source": [
        "## Modelo ingênuo\n",
        "\n",
        "Um modelo ingênuo (naive) em séries temporais é um dos métodos de previsão mais simples, baseando-se na suposição de que o melhor preditor para qualquer ponto futuro é o valor mais recente disponível na série. Isso significa que a previsão para todos os pontos futuros será igual ao último valor observado."
      ],
      "metadata": {
        "id": "yvNIIhwTTFvF"
      }
    },
    {
      "cell_type": "code",
      "source": [],
      "metadata": {
        "id": "SIrHx81VWgrt"
      },
      "execution_count": null,
      "outputs": []
    },
    {
      "cell_type": "markdown",
      "source": [
        "## Avaliando a estacionariedade"
      ],
      "metadata": {
        "id": "CJcLQc99TjcV"
      }
    },
    {
      "cell_type": "code",
      "source": [],
      "metadata": {
        "id": "JlMgPh34Wl-M"
      },
      "execution_count": null,
      "outputs": []
    },
    {
      "cell_type": "code",
      "source": [],
      "metadata": {
        "id": "QaDljWOkWl41"
      },
      "execution_count": null,
      "outputs": []
    },
    {
      "cell_type": "code",
      "source": [],
      "metadata": {
        "id": "3CUVTXqAWlyg"
      },
      "execution_count": null,
      "outputs": []
    },
    {
      "cell_type": "markdown",
      "source": [
        "## Modelo Autoregressivo (AR)"
      ],
      "metadata": {
        "id": "XaRs1l_DTtJQ"
      }
    },
    {
      "cell_type": "markdown",
      "source": [
        "Um modelo Autorregressivo (AR) é um tipo de modelo de previsão para séries temporais que utiliza uma combinação linear de valores passados da própria série para fazer previsões futuras. Ele se baseia na ideia de que observações passadas podem ser usadas para prever observações futuras de maneira estatisticamente significativa, especialmente quando a série exibe correlação ao longo do tempo.\n",
        "\n",
        "A equação básica de um modelo autorregressivo de ordem $(p)$ (lag de $p$ períodos) é dada por:\n",
        "\n",
        "$X_t = c + \\beta_1 X_{t-1} + \\beta_2 X_{t-2} + \\dots + \\beta_p X_{t-p} + \\epsilon_t$"
      ],
      "metadata": {
        "id": "HSc5koRZsfAV"
      }
    },
    {
      "cell_type": "code",
      "source": [],
      "metadata": {
        "id": "yRm2qpWnW3qg"
      },
      "execution_count": null,
      "outputs": []
    },
    {
      "cell_type": "code",
      "source": [],
      "metadata": {
        "id": "ahZ4UsaiW3kX"
      },
      "execution_count": null,
      "outputs": []
    },
    {
      "cell_type": "code",
      "source": [],
      "metadata": {
        "id": "8vHC_l11W3du"
      },
      "execution_count": null,
      "outputs": []
    },
    {
      "cell_type": "code",
      "source": [
        "from sklearn.metrics import mean_absolute_error, mean_squared_error\n",
        "\n",
        "def plot_prev(treino, teste, mod, nome_mod = ''):\n",
        "\n",
        "  previsoes = mod.predict(len(treino), len(treino) + len(teste)-1, dynamic=False)\n",
        "\n",
        "  plt.figure(figsize=(12, 5))\n",
        "\n",
        "  plt.plot(teste.index, teste, label='Esperado')\n",
        "  plt.plot(previsoes.index, previsoes, label='Previsto', color='red')\n",
        "\n",
        "  plt.title(f'Previsão modelo {nome_mod}')\n",
        "  plt.ylabel('Temperatura')\n",
        "  plt.legend()\n",
        "  plt.show()\n",
        "\n",
        "  print('\\nMétricas:\\n')\n",
        "  mae = mean_absolute_error(teste, previsoes)\n",
        "  print(f'MAE: {mae}')\n",
        "\n",
        "  mse = mean_squared_error(teste, previsoes)\n",
        "  print(f'MSE: {mse}')"
      ],
      "metadata": {
        "id": "ruNJjT3nUB_e"
      },
      "execution_count": null,
      "outputs": []
    },
    {
      "cell_type": "code",
      "source": [],
      "metadata": {
        "id": "8LNc3Ea5W-qO"
      },
      "execution_count": null,
      "outputs": []
    },
    {
      "cell_type": "markdown",
      "source": [
        "### Busca de parâmetros"
      ],
      "metadata": {
        "id": "BWmdbT9QrGPg"
      }
    },
    {
      "cell_type": "code",
      "source": [],
      "metadata": {
        "id": "b2r0HwA_WHDp"
      },
      "execution_count": null,
      "outputs": []
    },
    {
      "cell_type": "code",
      "source": [],
      "metadata": {
        "id": "AtuUskMBWE7q"
      },
      "execution_count": null,
      "outputs": []
    },
    {
      "cell_type": "code",
      "source": [],
      "metadata": {
        "id": "FIPfXWG-WE2Y"
      },
      "execution_count": null,
      "outputs": []
    },
    {
      "cell_type": "code",
      "source": [],
      "metadata": {
        "id": "LhVQQYDQWEh2"
      },
      "execution_count": null,
      "outputs": []
    },
    {
      "cell_type": "code",
      "source": [],
      "metadata": {
        "id": "0_fricn7WELk"
      },
      "execution_count": null,
      "outputs": []
    },
    {
      "cell_type": "markdown",
      "source": [
        "# Fazenda 2"
      ],
      "metadata": {
        "id": "o46I6GVN5Bsc"
      }
    },
    {
      "cell_type": "markdown",
      "source": [
        "![Alt text: Imagem de uma fazenda com plantações de tomates](https://github.com/Mirlaa/s-ries-temporais-statsmodels/blob/main/imagens/Fazenda%202.png?raw=true)"
      ],
      "metadata": {
        "id": "nhbNQHMKEfkc"
      }
    },
    {
      "cell_type": "code",
      "source": [],
      "metadata": {
        "id": "ZvMNe51YUG1V"
      },
      "execution_count": null,
      "outputs": []
    },
    {
      "cell_type": "code",
      "source": [
        "df_f2['DATA'] = pd.to_datetime(df_f2['DATA'], format='%Y-%m-%d')\n",
        "df_f2.set_index(['DATA'], inplace=True, drop=True)\n",
        "fig = df_f2.plot(figsize=(12, 6))"
      ],
      "metadata": {
        "id": "Kj2SatgAUIMw"
      },
      "execution_count": null,
      "outputs": []
    },
    {
      "cell_type": "code",
      "source": [],
      "metadata": {
        "id": "xV4_acwdUJRP"
      },
      "execution_count": null,
      "outputs": []
    },
    {
      "cell_type": "code",
      "source": [
        "\n",
        "\n",
        "treino = df_f2.iloc[:divisao].asfreq('MS')\n",
        "teste = df_f2.iloc[divisao:].asfreq('MS')"
      ],
      "metadata": {
        "id": "uAI_Imc8uM0J"
      },
      "execution_count": null,
      "outputs": []
    },
    {
      "cell_type": "markdown",
      "source": [
        "## Construindo um modelo previsivo"
      ],
      "metadata": {
        "id": "-ff_T5DcuNgg"
      }
    },
    {
      "cell_type": "code",
      "source": [
        "fig = plt.figure(figsize=(10, 8))\n",
        "ax1 = fig.add_subplot(211)\n",
        "fig = plot_acf(treino, lags=11, ax=ax1)\n",
        "ax2 = fig.add_subplot(212)\n",
        "fig = plot_pacf(treino, lags=11, ax=ax2)"
      ],
      "metadata": {
        "id": "b_s9WJxdUSwl"
      },
      "execution_count": null,
      "outputs": []
    },
    {
      "cell_type": "code",
      "source": [],
      "metadata": {
        "id": "1-SwngmOUUJy"
      },
      "execution_count": null,
      "outputs": []
    },
    {
      "cell_type": "code",
      "source": [],
      "metadata": {
        "id": "8NNUuCPcUUCe"
      },
      "execution_count": null,
      "outputs": []
    },
    {
      "cell_type": "markdown",
      "source": [
        "### Modelo Autorregressivo de Médias Móveis (ARMA)"
      ],
      "metadata": {
        "id": "-85qXhuJu0A4"
      }
    },
    {
      "cell_type": "markdown",
      "source": [
        "O modelo ARMA é uma ferramenta estatística avançada usada na análise de séries temporais que combina duas características principais: autoregressiva (AR) e média móvel (MA).\n",
        "\n",
        "O modelo ARMA é expresso pela seguinte equação:\n",
        "\n",
        "$X_t = c + \\epsilon_t + \\sum_{i=1}^p \\beta_i X_{t-i} + \\sum_{j=1}^q \\theta_j \\epsilon_{t-j}$"
      ],
      "metadata": {
        "id": "MyO1u8OAvbOi"
      }
    },
    {
      "cell_type": "code",
      "source": [],
      "metadata": {
        "id": "B_HEJaTNUkQW"
      },
      "execution_count": null,
      "outputs": []
    },
    {
      "cell_type": "code",
      "source": [
        "arma_mod.plot_diagnostics(figsize=(15, 12))\n",
        "plt.show()"
      ],
      "metadata": {
        "id": "N3RGdHjXUtQu"
      },
      "execution_count": null,
      "outputs": []
    },
    {
      "cell_type": "markdown",
      "source": [
        "### Busca de parâmetros"
      ],
      "metadata": {
        "id": "b-i5QwADu5B0"
      }
    },
    {
      "cell_type": "code",
      "source": [
        "import itertools\n",
        "\n",
        "\n",
        "def grid_arima(p_inicial, p_final, q_inicial, q_final, d_valores, treino):\n",
        "  # Definindo os parâmetros\n",
        "  p_params = range(p_inicial, p_final)\n",
        "  q_params = range(q_inicial, q_final)\n",
        "  d_params = [d_valores]\n",
        "\n",
        "  # Gerando todas as combinações possíveis usando product\n",
        "  combinacoes = list(itertools.product(p_params, d_params, q_params))\n",
        "\n",
        "  aic_grid = dict()\n",
        "  # Treinando o modelo e salvando todas combinações\n",
        "  for order in combinacoes:\n",
        "    try:\n",
        "      model = ARIMA(treino, order = order).fit()\n",
        "      aic_grid[order] = list()\n",
        "      aic_grid[order].append((model.aic if model.aic else float('inf')))\n",
        "    except:\n",
        "      continue\n",
        "  return aic_grid, min(aic_grid, key=lambda x: aic_grid[x][0])"
      ],
      "metadata": {
        "id": "Rg5wJgyJvEsl"
      },
      "execution_count": null,
      "outputs": []
    },
    {
      "cell_type": "code",
      "source": [],
      "metadata": {
        "id": "mmloEsNNVWEy"
      },
      "execution_count": null,
      "outputs": []
    },
    {
      "cell_type": "code",
      "source": [],
      "metadata": {
        "id": "6ksxgSviVV7P"
      },
      "execution_count": null,
      "outputs": []
    },
    {
      "cell_type": "code",
      "source": [],
      "metadata": {
        "id": "bSQu8EdAVVxn"
      },
      "execution_count": null,
      "outputs": []
    },
    {
      "cell_type": "code",
      "source": [],
      "metadata": {
        "id": "kTXw718HVVmK"
      },
      "execution_count": null,
      "outputs": []
    },
    {
      "cell_type": "code",
      "source": [],
      "metadata": {
        "id": "FY-F1v9rVVfd"
      },
      "execution_count": null,
      "outputs": []
    },
    {
      "cell_type": "code",
      "source": [],
      "metadata": {
        "id": "JUsPgDsmVVYP"
      },
      "execution_count": null,
      "outputs": []
    },
    {
      "cell_type": "markdown",
      "source": [
        "# Fazenda 3"
      ],
      "metadata": {
        "id": "xOqhCGib5DkW"
      }
    },
    {
      "cell_type": "markdown",
      "source": [
        "![Alt text: Imagem de uma fazenda com plantações de arroz](https://github.com/Mirlaa/s-ries-temporais-statsmodels/blob/main/imagens/Fazenda%203.png?raw=true)"
      ],
      "metadata": {
        "id": "GdMBQ_QeEfDQ"
      }
    },
    {
      "cell_type": "code",
      "source": [],
      "metadata": {
        "id": "KqAlbHbFTc4y"
      },
      "execution_count": null,
      "outputs": []
    },
    {
      "cell_type": "code",
      "source": [
        "df_f3['DATA'] = pd.to_datetime(df_f3['DATA'], format='%Y-%m-%d')\n",
        "df_f3.set_index(['DATA'], inplace=True, drop=True)\n",
        "fig = df_f3.plot(figsize=(12, 6))"
      ],
      "metadata": {
        "id": "YeP8d8f4TeuF"
      },
      "execution_count": null,
      "outputs": []
    },
    {
      "cell_type": "code",
      "source": [],
      "metadata": {
        "id": "SsAyG71CTf0n"
      },
      "execution_count": null,
      "outputs": []
    },
    {
      "cell_type": "code",
      "source": [],
      "metadata": {
        "id": "X-q_dhznTfxV"
      },
      "execution_count": null,
      "outputs": []
    },
    {
      "cell_type": "code",
      "source": [],
      "metadata": {
        "id": "bky89bmDTjMt"
      },
      "execution_count": null,
      "outputs": []
    },
    {
      "cell_type": "markdown",
      "source": [
        "## Modelo Integrado Autorregressivo de Média Móveis (ARIMA)"
      ],
      "metadata": {
        "id": "jRa3Izz8zi6n"
      }
    },
    {
      "cell_type": "code",
      "source": [
        "divisao = int(len(df_f3) * 0.8)\n",
        "\n",
        "treino = df_f3.iloc[:divisao].asfreq('MS')\n",
        "teste = df_f3.iloc[divisao:].asfreq('MS')"
      ],
      "metadata": {
        "id": "mqgJ_00mTtCX"
      },
      "execution_count": null,
      "outputs": []
    },
    {
      "cell_type": "code",
      "source": [
        "fig = plt.figure(figsize=(10, 8))\n",
        "ax1 = fig.add_subplot(211)\n",
        "fig = plot_acf(treino, lags=20, ax=ax1)\n",
        "ax2 = fig.add_subplot(212)\n",
        "fig = plot_pacf(treino, lags=20, ax=ax2)"
      ],
      "metadata": {
        "id": "sK9pgKGuTs_x"
      },
      "execution_count": null,
      "outputs": []
    },
    {
      "cell_type": "markdown",
      "source": [
        "O modelo ARIMA combina três componentes principais: autorregressivo (AR), diferenciado (I de Integrated, ou integrado) e de média móvel (MA), o que o torna capaz de modelar uma ampla variedade de dados temporais.\n",
        "\n",
        "O modelo ARIMA é geralmente representado como ARIMA(p, d, q), onde:\n",
        "\n",
        "- $(p)$ é o número de termos autoregressivos,\n",
        "- $( d )$ é o número de diferenciações necessárias para tornar a série temporal estacionária,\n",
        "- $( q )$ é o número de termos de média móvel.\n",
        "\n",
        "A equação genérica do modelo ARIMA é:\n",
        "\n",
        "$(1 - \\sum_{i=1}^p \\beta_i L^i)(1 - L)^d X_t = (1 + \\sum_{j=1}^q \\theta_j L^j) \\epsilon_t$"
      ],
      "metadata": {
        "id": "GkRvnaVd1Wah"
      }
    },
    {
      "cell_type": "code",
      "source": [],
      "metadata": {
        "id": "Z8h721LWTxJv"
      },
      "execution_count": null,
      "outputs": []
    },
    {
      "cell_type": "markdown",
      "source": [
        "### Busca de parâmetros"
      ],
      "metadata": {
        "id": "qdlfyeiiz_zp"
      }
    },
    {
      "cell_type": "code",
      "source": [
        "aic_arima = grid_arima(14,25,1,3,1,treino)"
      ],
      "metadata": {
        "id": "ZiKeKnRd0F6o"
      },
      "execution_count": null,
      "outputs": []
    },
    {
      "cell_type": "code",
      "source": [
        "aic_arima[1]"
      ],
      "metadata": {
        "id": "0nnMLaB30KM9",
        "colab": {
          "base_uri": "https://localhost:8080/"
        },
        "outputId": "9f94f82b-759b-4a85-b248-3d5573f7cfd6"
      },
      "execution_count": null,
      "outputs": [
        {
          "output_type": "execute_result",
          "data": {
            "text/plain": [
              "(24, 1, 2)"
            ]
          },
          "metadata": {},
          "execution_count": 46
        }
      ]
    },
    {
      "cell_type": "code",
      "source": [
        "arima_mod_ot = ARIMA(treino, order = (24, 1, 2)).fit()\n",
        "print(arima_mod_ot.summary())"
      ],
      "metadata": {
        "id": "tRg_duis0KBt",
        "colab": {
          "base_uri": "https://localhost:8080/"
        },
        "outputId": "8707f952-b943-4e80-8f19-bdcc3eb58c72"
      },
      "execution_count": null,
      "outputs": [
        {
          "output_type": "stream",
          "name": "stdout",
          "text": [
            "                               SARIMAX Results                                \n",
            "==============================================================================\n",
            "Dep. Variable:                   TEMP   No. Observations:                  563\n",
            "Model:                ARIMA(24, 1, 2)   Log Likelihood                -504.938\n",
            "Date:                Wed, 26 Jun 2024   AIC                           1063.876\n",
            "Time:                        14:33:45   BIC                           1180.827\n",
            "Sample:                    09-01-1965   HQIC                          1109.535\n",
            "                         - 07-01-2012                                         \n",
            "Covariance Type:                  opg                                         \n",
            "==============================================================================\n",
            "                 coef    std err          z      P>|z|      [0.025      0.975]\n",
            "------------------------------------------------------------------------------\n",
            "ar.L1         -0.4442      0.152     -2.928      0.003      -0.742      -0.147\n",
            "ar.L2          0.1559      0.086      1.811      0.070      -0.013       0.325\n",
            "ar.L3         -0.1382      0.072     -1.931      0.053      -0.278       0.002\n",
            "ar.L4         -0.0912      0.072     -1.264      0.206      -0.233       0.050\n",
            "ar.L5         -0.0308      0.068     -0.452      0.651      -0.164       0.103\n",
            "ar.L6         -0.0047      0.062     -0.076      0.940      -0.126       0.117\n",
            "ar.L7         -0.0783      0.065     -1.199      0.231      -0.206       0.050\n",
            "ar.L8         -0.0558      0.062     -0.901      0.368      -0.177       0.066\n",
            "ar.L9         -0.0071      0.059     -0.119      0.905      -0.123       0.109\n",
            "ar.L10        -0.0258      0.055     -0.472      0.637      -0.133       0.081\n",
            "ar.L11         0.1256      0.051      2.461      0.014       0.026       0.226\n",
            "ar.L12         0.2784      0.054      5.184      0.000       0.173       0.384\n",
            "ar.L13         0.2375      0.050      4.794      0.000       0.140       0.335\n",
            "ar.L14        -0.0373      0.047     -0.797      0.425      -0.129       0.054\n",
            "ar.L15        -0.1372      0.052     -2.642      0.008      -0.239      -0.035\n",
            "ar.L16        -0.1258      0.050     -2.516      0.012      -0.224      -0.028\n",
            "ar.L17        -0.1057      0.059     -1.789      0.074      -0.222       0.010\n",
            "ar.L18        -0.1016      0.060     -1.697      0.090      -0.219       0.016\n",
            "ar.L19        -0.0830      0.057     -1.445      0.148      -0.196       0.030\n",
            "ar.L20        -0.1004      0.055     -1.811      0.070      -0.209       0.008\n",
            "ar.L21        -0.1974      0.061     -3.249      0.001      -0.316      -0.078\n",
            "ar.L22        -0.2090      0.061     -3.400      0.001      -0.330      -0.089\n",
            "ar.L23         0.0724      0.058      1.238      0.216      -0.042       0.187\n",
            "ar.L24         0.2274      0.045      5.040      0.000       0.139       0.316\n",
            "ma.L1         -0.1686      0.151     -1.115      0.265      -0.465       0.128\n",
            "ma.L2         -0.7148      0.133     -5.376      0.000      -0.975      -0.454\n",
            "sigma2         0.3392      0.019     17.507      0.000       0.301       0.377\n",
            "===================================================================================\n",
            "Ljung-Box (L1) (Q):                   0.03   Jarque-Bera (JB):                11.07\n",
            "Prob(Q):                              0.87   Prob(JB):                         0.00\n",
            "Heteroskedasticity (H):               1.20   Skew:                             0.20\n",
            "Prob(H) (two-sided):                  0.21   Kurtosis:                         3.55\n",
            "===================================================================================\n",
            "\n",
            "Warnings:\n",
            "[1] Covariance matrix calculated using the outer product of gradients (complex-step).\n"
          ]
        }
      ]
    },
    {
      "cell_type": "code",
      "source": [
        "plot_prev(treino, teste, arima_mod_ot, 'ARIMA(24,1,2)')"
      ],
      "metadata": {
        "id": "ORVOJQjm0JzA",
        "colab": {
          "base_uri": "https://localhost:8080/",
          "height": 555
        },
        "outputId": "e5730554-fe6b-45fc-93df-7fbe4ec54dc2"
      },
      "execution_count": null,
      "outputs": [
        {
          "output_type": "display_data",
          "data": {
            "text/plain": [
              "<Figure size 1200x500 with 1 Axes>"
            ],
            "image/png": "[encoded data removed]"
          },
          "metadata": {}
        },
        {
          "output_type": "stream",
          "name": "stdout",
          "text": [
            "\n",
            "Métricas:\n",
            "\n",
            "MAE: 0.8308415470649783\n",
            "MSE: 1.1579346525653609\n"
          ]
        }
      ]
    },
    {
      "cell_type": "markdown",
      "source": [
        "### **A sazonalidade**"
      ],
      "metadata": {
        "id": "JrmAqi220MPj"
      }
    },
    {
      "cell_type": "code",
      "source": [],
      "metadata": {
        "id": "oH7cNCTRTGha"
      },
      "execution_count": null,
      "outputs": []
    },
    {
      "cell_type": "code",
      "source": [
        "fig = plt.figure(figsize=(10, 8))\n",
        "ax1 = fig.add_subplot(211)\n",
        "fig = plot_acf(treino, lags=48, ax=ax1)\n",
        "ax2 = fig.add_subplot(212)\n",
        "fig = plot_pacf(treino, lags=48, ax=ax2)"
      ],
      "metadata": {
        "id": "QEwrwrlVTOBf"
      },
      "execution_count": null,
      "outputs": []
    },
    {
      "cell_type": "markdown",
      "source": [
        "## Modelo Autorregressivo Sazonal de Média Móveis Integrado (SARIMA)"
      ],
      "metadata": {
        "id": "JOaNp7tv0uGQ"
      }
    },
    {
      "cell_type": "markdown",
      "source": [
        "O modelo SARIMA é uma extensão do modelo ARIMA, projetado especificamente para modelar e prever séries temporais que exibem sazonalidade.\n",
        "\n",
        "O modelo SARIMA pode ser descrito pela seguinte equação, que combina tanto os efeitos sazonais quanto os não sazonais:\n",
        "\n",
        "$(1 - \\sum_{i=1}^p \\beta_i L^i)(1 - \\sum_{i=1}^P B_i L^{is})(1 - L)^d(1 - L^s)^D X_t = (1 + \\sum_{j=1}^q \\theta_j L^j)(1 + \\sum_{j=1}^Q \\Theta_j L^{js}) \\epsilon_t$"
      ],
      "metadata": {
        "id": "4eO4PsgI1wcQ"
      }
    },
    {
      "cell_type": "code",
      "source": [],
      "metadata": {
        "id": "w-7ArcD4TEbG"
      },
      "execution_count": null,
      "outputs": []
    },
    {
      "cell_type": "code",
      "source": [],
      "metadata": {
        "id": "c7-RchmtTEY5"
      },
      "execution_count": null,
      "outputs": []
    },
    {
      "cell_type": "markdown",
      "source": [
        "# Previsões das Fazendas"
      ],
      "metadata": {
        "id": "ptVS75nR5FDz"
      }
    },
    {
      "cell_type": "markdown",
      "source": [
        "Temos 3 modelos para 3 conjuntos de dados sobre as temperaturas das fazendas\n",
        "\n",
        "* Fazenda 1 modelo $AR(34)$\n",
        "* Fazenda 2 modelo $ARMA(24,2)$\n",
        "* Fazenda 3 modelo $SARIMA(11, 1, 1)\\times (2, 1, 1, 12)$\n",
        "\n",
        "```Python\n",
        "mod_f1 = AutoReg(df_f1, 34, old_names=False).fit()\n",
        "mod_f2 = ARIMA(df_f2, order=(24,0,2)).fit()\n",
        "mod_f3 = SARIMAX(df_f3, order=(11, 1, 1), seasonal_order=(2, 1, 1, 12)).fit()\n",
        "```"
      ],
      "metadata": {
        "id": "ia2eInHV0-DO"
      }
    },
    {
      "cell_type": "code",
      "source": [],
      "metadata": {
        "id": "jYhfjdKhIrDQ"
      },
      "execution_count": null,
      "outputs": []
    },
    {
      "cell_type": "code",
      "source": [],
      "metadata": {
        "id": "tXE_pYECIq9P"
      },
      "execution_count": null,
      "outputs": []
    },
    {
      "cell_type": "code",
      "source": [],
      "metadata": {
        "id": "0aAJDZthIq24"
      },
      "execution_count": null,
      "outputs": []
    }
  ]
}